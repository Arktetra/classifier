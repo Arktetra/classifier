{
  "cells": [
    {
      "cell_type": "code",
      "execution_count": 3,
      "metadata": {
        "colab": {
          "base_uri": "https://localhost:8080/"
        },
        "id": "iWBq5b7DqsU4",
        "outputId": "2160d00e-91a5-4f3d-bfde-59ad02328d82"
      },
      "outputs": [
        {
          "name": "stdout",
          "output_type": "stream",
          "text": [
            "Requirement already satisfied: voila in c:\\users\\nitro5\\anaconda3\\envs\\llmenv\\lib\\site-packages (0.5.5)\n",
            "Requirement already satisfied: jupyter-client<9,>=7.4.4 in c:\\users\\nitro5\\anaconda3\\envs\\llmenv\\lib\\site-packages (from voila) (8.4.0)\n",
            "Requirement already satisfied: jupyter-core>=4.11.0 in c:\\users\\nitro5\\anaconda3\\envs\\llmenv\\lib\\site-packages (from voila) (5.4.0)\n",
            "Requirement already satisfied: jupyter-server<3,>=2.0.0 in c:\\users\\nitro5\\anaconda3\\envs\\llmenv\\lib\\site-packages (from voila) (2.7.3)\n",
            "Requirement already satisfied: jupyterlab-server<3,>=2.3.0 in c:\\users\\nitro5\\anaconda3\\envs\\llmenv\\lib\\site-packages (from voila) (2.25.0)\n",
            "Requirement already satisfied: nbclient<0.8,>=0.4.0 in c:\\users\\nitro5\\anaconda3\\envs\\llmenv\\lib\\site-packages (from voila) (0.7.4)\n",
            "Requirement already satisfied: nbconvert<8,>=6.4.5 in c:\\users\\nitro5\\anaconda3\\envs\\llmenv\\lib\\site-packages (from voila) (7.9.2)\n",
            "Requirement already satisfied: traitlets<6,>=5.0.3 in c:\\users\\nitro5\\anaconda3\\envs\\llmenv\\lib\\site-packages (from voila) (5.11.2)\n",
            "Requirement already satisfied: websockets>=9.0 in c:\\users\\nitro5\\anaconda3\\envs\\llmenv\\lib\\site-packages (from voila) (12.0)\n",
            "Requirement already satisfied: python-dateutil>=2.8.2 in c:\\users\\nitro5\\anaconda3\\envs\\llmenv\\lib\\site-packages (from jupyter-client<9,>=7.4.4->voila) (2.8.2)\n",
            "Requirement already satisfied: pyzmq>=23.0 in c:\\users\\nitro5\\anaconda3\\envs\\llmenv\\lib\\site-packages (from jupyter-client<9,>=7.4.4->voila) (25.1.1)\n",
            "Requirement already satisfied: tornado>=6.2 in c:\\users\\nitro5\\anaconda3\\envs\\llmenv\\lib\\site-packages (from jupyter-client<9,>=7.4.4->voila) (6.3.3)\n",
            "Requirement already satisfied: platformdirs>=2.5 in c:\\users\\nitro5\\anaconda3\\envs\\llmenv\\lib\\site-packages (from jupyter-core>=4.11.0->voila) (3.11.0)\n",
            "Requirement already satisfied: pywin32>=300 in c:\\users\\nitro5\\anaconda3\\envs\\llmenv\\lib\\site-packages (from jupyter-core>=4.11.0->voila) (306)\n",
            "Requirement already satisfied: anyio>=3.1.0 in c:\\users\\nitro5\\anaconda3\\envs\\llmenv\\lib\\site-packages (from jupyter-server<3,>=2.0.0->voila) (4.0.0)\n",
            "Requirement already satisfied: argon2-cffi in c:\\users\\nitro5\\anaconda3\\envs\\llmenv\\lib\\site-packages (from jupyter-server<3,>=2.0.0->voila) (23.1.0)\n",
            "Requirement already satisfied: jinja2 in c:\\users\\nitro5\\anaconda3\\envs\\llmenv\\lib\\site-packages (from jupyter-server<3,>=2.0.0->voila) (3.1.2)\n",
            "Requirement already satisfied: jupyter-events>=0.6.0 in c:\\users\\nitro5\\anaconda3\\envs\\llmenv\\lib\\site-packages (from jupyter-server<3,>=2.0.0->voila) (0.7.0)\n",
            "Requirement already satisfied: jupyter-server-terminals in c:\\users\\nitro5\\anaconda3\\envs\\llmenv\\lib\\site-packages (from jupyter-server<3,>=2.0.0->voila) (0.4.4)\n",
            "Requirement already satisfied: nbformat>=5.3.0 in c:\\users\\nitro5\\anaconda3\\envs\\llmenv\\lib\\site-packages (from jupyter-server<3,>=2.0.0->voila) (5.9.2)\n",
            "Requirement already satisfied: overrides in c:\\users\\nitro5\\anaconda3\\envs\\llmenv\\lib\\site-packages (from jupyter-server<3,>=2.0.0->voila) (7.4.0)\n",
            "Requirement already satisfied: packaging in c:\\users\\nitro5\\anaconda3\\envs\\llmenv\\lib\\site-packages (from jupyter-server<3,>=2.0.0->voila) (23.2)\n",
            "Requirement already satisfied: prometheus-client in c:\\users\\nitro5\\anaconda3\\envs\\llmenv\\lib\\site-packages (from jupyter-server<3,>=2.0.0->voila) (0.17.1)\n",
            "Requirement already satisfied: pywinpty in c:\\users\\nitro5\\anaconda3\\envs\\llmenv\\lib\\site-packages (from jupyter-server<3,>=2.0.0->voila) (2.0.12)\n",
            "Requirement already satisfied: send2trash>=1.8.2 in c:\\users\\nitro5\\anaconda3\\envs\\llmenv\\lib\\site-packages (from jupyter-server<3,>=2.0.0->voila) (1.8.2)\n",
            "Requirement already satisfied: terminado>=0.8.3 in c:\\users\\nitro5\\anaconda3\\envs\\llmenv\\lib\\site-packages (from jupyter-server<3,>=2.0.0->voila) (0.17.1)\n",
            "Requirement already satisfied: websocket-client in c:\\users\\nitro5\\anaconda3\\envs\\llmenv\\lib\\site-packages (from jupyter-server<3,>=2.0.0->voila) (1.6.4)\n",
            "Requirement already satisfied: babel>=2.10 in c:\\users\\nitro5\\anaconda3\\envs\\llmenv\\lib\\site-packages (from jupyterlab-server<3,>=2.3.0->voila) (2.13.0)\n",
            "Requirement already satisfied: json5>=0.9.0 in c:\\users\\nitro5\\anaconda3\\envs\\llmenv\\lib\\site-packages (from jupyterlab-server<3,>=2.3.0->voila) (0.9.14)\n",
            "Requirement already satisfied: jsonschema>=4.18.0 in c:\\users\\nitro5\\anaconda3\\envs\\llmenv\\lib\\site-packages (from jupyterlab-server<3,>=2.3.0->voila) (4.19.1)\n",
            "Requirement already satisfied: requests>=2.31 in c:\\users\\nitro5\\anaconda3\\envs\\llmenv\\lib\\site-packages (from jupyterlab-server<3,>=2.3.0->voila) (2.31.0)\n",
            "Requirement already satisfied: beautifulsoup4 in c:\\users\\nitro5\\anaconda3\\envs\\llmenv\\lib\\site-packages (from nbconvert<8,>=6.4.5->voila) (4.12.2)\n",
            "Requirement already satisfied: bleach!=5.0.0 in c:\\users\\nitro5\\anaconda3\\envs\\llmenv\\lib\\site-packages (from nbconvert<8,>=6.4.5->voila) (6.1.0)\n",
            "Requirement already satisfied: defusedxml in c:\\users\\nitro5\\anaconda3\\envs\\llmenv\\lib\\site-packages (from nbconvert<8,>=6.4.5->voila) (0.7.1)\n",
            "Requirement already satisfied: jupyterlab-pygments in c:\\users\\nitro5\\anaconda3\\envs\\llmenv\\lib\\site-packages (from nbconvert<8,>=6.4.5->voila) (0.2.2)\n",
            "Requirement already satisfied: markupsafe>=2.0 in c:\\users\\nitro5\\anaconda3\\envs\\llmenv\\lib\\site-packages (from nbconvert<8,>=6.4.5->voila) (2.1.3)\n",
            "Requirement already satisfied: mistune<4,>=2.0.3 in c:\\users\\nitro5\\anaconda3\\envs\\llmenv\\lib\\site-packages (from nbconvert<8,>=6.4.5->voila) (3.0.2)\n",
            "Requirement already satisfied: pandocfilters>=1.4.1 in c:\\users\\nitro5\\anaconda3\\envs\\llmenv\\lib\\site-packages (from nbconvert<8,>=6.4.5->voila) (1.5.0)\n",
            "Requirement already satisfied: pygments>=2.4.1 in c:\\users\\nitro5\\anaconda3\\envs\\llmenv\\lib\\site-packages (from nbconvert<8,>=6.4.5->voila) (2.16.1)\n",
            "Requirement already satisfied: tinycss2 in c:\\users\\nitro5\\anaconda3\\envs\\llmenv\\lib\\site-packages (from nbconvert<8,>=6.4.5->voila) (1.2.1)\n",
            "Requirement already satisfied: idna>=2.8 in c:\\users\\nitro5\\anaconda3\\envs\\llmenv\\lib\\site-packages (from anyio>=3.1.0->jupyter-server<3,>=2.0.0->voila) (3.4)\n",
            "Requirement already satisfied: sniffio>=1.1 in c:\\users\\nitro5\\anaconda3\\envs\\llmenv\\lib\\site-packages (from anyio>=3.1.0->jupyter-server<3,>=2.0.0->voila) (1.3.0)\n",
            "Requirement already satisfied: exceptiongroup>=1.0.2 in c:\\users\\nitro5\\anaconda3\\envs\\llmenv\\lib\\site-packages (from anyio>=3.1.0->jupyter-server<3,>=2.0.0->voila) (1.1.3)\n",
            "Requirement already satisfied: six>=1.9.0 in c:\\users\\nitro5\\anaconda3\\envs\\llmenv\\lib\\site-packages (from bleach!=5.0.0->nbconvert<8,>=6.4.5->voila) (1.16.0)\n",
            "Requirement already satisfied: webencodings in c:\\users\\nitro5\\anaconda3\\envs\\llmenv\\lib\\site-packages (from bleach!=5.0.0->nbconvert<8,>=6.4.5->voila) (0.5.1)\n",
            "Requirement already satisfied: attrs>=22.2.0 in c:\\users\\nitro5\\anaconda3\\envs\\llmenv\\lib\\site-packages (from jsonschema>=4.18.0->jupyterlab-server<3,>=2.3.0->voila) (23.1.0)\n",
            "Requirement already satisfied: jsonschema-specifications>=2023.03.6 in c:\\users\\nitro5\\anaconda3\\envs\\llmenv\\lib\\site-packages (from jsonschema>=4.18.0->jupyterlab-server<3,>=2.3.0->voila) (2023.7.1)\n",
            "Requirement already satisfied: referencing>=0.28.4 in c:\\users\\nitro5\\anaconda3\\envs\\llmenv\\lib\\site-packages (from jsonschema>=4.18.0->jupyterlab-server<3,>=2.3.0->voila) (0.30.2)\n",
            "Requirement already satisfied: rpds-py>=0.7.1 in c:\\users\\nitro5\\anaconda3\\envs\\llmenv\\lib\\site-packages (from jsonschema>=4.18.0->jupyterlab-server<3,>=2.3.0->voila) (0.10.6)\n",
            "Requirement already satisfied: python-json-logger>=2.0.4 in c:\\users\\nitro5\\anaconda3\\envs\\llmenv\\lib\\site-packages (from jupyter-events>=0.6.0->jupyter-server<3,>=2.0.0->voila) (2.0.7)\n",
            "Requirement already satisfied: pyyaml>=5.3 in c:\\users\\nitro5\\anaconda3\\envs\\llmenv\\lib\\site-packages (from jupyter-events>=0.6.0->jupyter-server<3,>=2.0.0->voila) (6.0.1)\n",
            "Requirement already satisfied: rfc3339-validator in c:\\users\\nitro5\\anaconda3\\envs\\llmenv\\lib\\site-packages (from jupyter-events>=0.6.0->jupyter-server<3,>=2.0.0->voila) (0.1.4)\n",
            "Requirement already satisfied: rfc3986-validator>=0.1.1 in c:\\users\\nitro5\\anaconda3\\envs\\llmenv\\lib\\site-packages (from jupyter-events>=0.6.0->jupyter-server<3,>=2.0.0->voila) (0.1.1)\n",
            "Requirement already satisfied: fastjsonschema in c:\\users\\nitro5\\anaconda3\\envs\\llmenv\\lib\\site-packages (from nbformat>=5.3.0->jupyter-server<3,>=2.0.0->voila) (2.18.1)\n",
            "Requirement already satisfied: charset-normalizer<4,>=2 in c:\\users\\nitro5\\anaconda3\\envs\\llmenv\\lib\\site-packages (from requests>=2.31->jupyterlab-server<3,>=2.3.0->voila) (3.3.0)\n",
            "Requirement already satisfied: urllib3<3,>=1.21.1 in c:\\users\\nitro5\\anaconda3\\envs\\llmenv\\lib\\site-packages (from requests>=2.31->jupyterlab-server<3,>=2.3.0->voila) (2.0.6)\n",
            "Requirement already satisfied: certifi>=2017.4.17 in c:\\users\\nitro5\\anaconda3\\envs\\llmenv\\lib\\site-packages (from requests>=2.31->jupyterlab-server<3,>=2.3.0->voila) (2023.7.22)\n",
            "Requirement already satisfied: argon2-cffi-bindings in c:\\users\\nitro5\\anaconda3\\envs\\llmenv\\lib\\site-packages (from argon2-cffi->jupyter-server<3,>=2.0.0->voila) (21.2.0)\n",
            "Requirement already satisfied: soupsieve>1.2 in c:\\users\\nitro5\\anaconda3\\envs\\llmenv\\lib\\site-packages (from beautifulsoup4->nbconvert<8,>=6.4.5->voila) (2.5)\n",
            "Requirement already satisfied: fqdn in c:\\users\\nitro5\\anaconda3\\envs\\llmenv\\lib\\site-packages (from jsonschema>=4.18.0->jupyterlab-server<3,>=2.3.0->voila) (1.5.1)\n",
            "Requirement already satisfied: isoduration in c:\\users\\nitro5\\anaconda3\\envs\\llmenv\\lib\\site-packages (from jsonschema>=4.18.0->jupyterlab-server<3,>=2.3.0->voila) (20.11.0)\n",
            "Requirement already satisfied: jsonpointer>1.13 in c:\\users\\nitro5\\anaconda3\\envs\\llmenv\\lib\\site-packages (from jsonschema>=4.18.0->jupyterlab-server<3,>=2.3.0->voila) (2.4)\n",
            "Requirement already satisfied: uri-template in c:\\users\\nitro5\\anaconda3\\envs\\llmenv\\lib\\site-packages (from jsonschema>=4.18.0->jupyterlab-server<3,>=2.3.0->voila) (1.3.0)\n",
            "Requirement already satisfied: webcolors>=1.11 in c:\\users\\nitro5\\anaconda3\\envs\\llmenv\\lib\\site-packages (from jsonschema>=4.18.0->jupyterlab-server<3,>=2.3.0->voila) (1.13)\n",
            "Requirement already satisfied: cffi>=1.0.1 in c:\\users\\nitro5\\anaconda3\\envs\\llmenv\\lib\\site-packages (from argon2-cffi-bindings->argon2-cffi->jupyter-server<3,>=2.0.0->voila) (1.16.0)\n",
            "Requirement already satisfied: pycparser in c:\\users\\nitro5\\anaconda3\\envs\\llmenv\\lib\\site-packages (from cffi>=1.0.1->argon2-cffi-bindings->argon2-cffi->jupyter-server<3,>=2.0.0->voila) (2.21)\n",
            "Requirement already satisfied: arrow>=0.15.0 in c:\\users\\nitro5\\anaconda3\\envs\\llmenv\\lib\\site-packages (from isoduration->jsonschema>=4.18.0->jupyterlab-server<3,>=2.3.0->voila) (1.3.0)\n",
            "Requirement already satisfied: types-python-dateutil>=2.8.10 in c:\\users\\nitro5\\anaconda3\\envs\\llmenv\\lib\\site-packages (from arrow>=0.15.0->isoduration->jsonschema>=4.18.0->jupyterlab-server<3,>=2.3.0->voila) (2.8.19.14)\n"
          ]
        },
        {
          "name": "stderr",
          "output_type": "stream",
          "text": [
            "Enabling: voila\n",
            "- Writing config: C:\\Users\\NITRO5\\anaconda3\\etc\\jupyter\n",
            "    - Validating...\n",
            "Error loading server extension voila\n",
            "      X is voila importable?\n"
          ]
        }
      ],
      "source": [
        "! pip install voila\n",
        "! jupyter serverextension enable --sys-prefix voila"
      ]
    },
    {
      "cell_type": "code",
      "execution_count": 4,
      "metadata": {
        "id": "1_N8cZNKfNun"
      },
      "outputs": [],
      "source": [
        "from fastai.vision.all import *\n",
        "from fastai.vision.widgets import *"
      ]
    },
    {
      "cell_type": "code",
      "execution_count": 6,
      "metadata": {
        "id": "J9Fhug6VfS9_"
      },
      "outputs": [
        {
          "ename": "NotImplementedError",
          "evalue": "cannot instantiate 'PosixPath' on your system",
          "output_type": "error",
          "traceback": [
            "\u001b[1;31m---------------------------------------------------------------------------\u001b[0m",
            "\u001b[1;31mNotImplementedError\u001b[0m                       Traceback (most recent call last)",
            "Cell \u001b[1;32mIn[6], line 2\u001b[0m\n\u001b[0;32m      1\u001b[0m \u001b[38;5;66;03m# path = Path()\u001b[39;00m\n\u001b[1;32m----> 2\u001b[0m learn_inf \u001b[38;5;241m=\u001b[39m \u001b[43mload_learner\u001b[49m\u001b[43m(\u001b[49m\u001b[38;5;124;43m'\u001b[39;49m\u001b[38;5;124;43m./export.pkl\u001b[39;49m\u001b[38;5;124;43m'\u001b[39;49m\u001b[43m,\u001b[49m\u001b[43m \u001b[49m\u001b[43mcpu\u001b[49m\u001b[43m \u001b[49m\u001b[38;5;241;43m=\u001b[39;49m\u001b[43m \u001b[49m\u001b[38;5;28;43;01mTrue\u001b[39;49;00m\u001b[43m)\u001b[49m\n\u001b[0;32m      3\u001b[0m btn_upload \u001b[38;5;241m=\u001b[39m widgets\u001b[38;5;241m.\u001b[39mFileUpload()\n\u001b[0;32m      4\u001b[0m out_pl \u001b[38;5;241m=\u001b[39m widgets\u001b[38;5;241m.\u001b[39mOutput()\n",
            "File \u001b[1;32mc:\\Users\\NITRO5\\anaconda3\\envs\\llmenv\\lib\\site-packages\\fastai\\learner.py:446\u001b[0m, in \u001b[0;36mload_learner\u001b[1;34m(fname, cpu, pickle_module)\u001b[0m\n\u001b[0;32m    444\u001b[0m distrib_barrier()\n\u001b[0;32m    445\u001b[0m map_loc \u001b[38;5;241m=\u001b[39m \u001b[38;5;124m'\u001b[39m\u001b[38;5;124mcpu\u001b[39m\u001b[38;5;124m'\u001b[39m \u001b[38;5;28;01mif\u001b[39;00m cpu \u001b[38;5;28;01melse\u001b[39;00m default_device()\n\u001b[1;32m--> 446\u001b[0m \u001b[38;5;28;01mtry\u001b[39;00m: res \u001b[38;5;241m=\u001b[39m \u001b[43mtorch\u001b[49m\u001b[38;5;241;43m.\u001b[39;49m\u001b[43mload\u001b[49m\u001b[43m(\u001b[49m\u001b[43mfname\u001b[49m\u001b[43m,\u001b[49m\u001b[43m \u001b[49m\u001b[43mmap_location\u001b[49m\u001b[38;5;241;43m=\u001b[39;49m\u001b[43mmap_loc\u001b[49m\u001b[43m,\u001b[49m\u001b[43m \u001b[49m\u001b[43mpickle_module\u001b[49m\u001b[38;5;241;43m=\u001b[39;49m\u001b[43mpickle_module\u001b[49m\u001b[43m)\u001b[49m\n\u001b[0;32m    447\u001b[0m \u001b[38;5;28;01mexcept\u001b[39;00m \u001b[38;5;167;01mAttributeError\u001b[39;00m \u001b[38;5;28;01mas\u001b[39;00m e: \n\u001b[0;32m    448\u001b[0m     e\u001b[38;5;241m.\u001b[39margs \u001b[38;5;241m=\u001b[39m [\u001b[38;5;124mf\u001b[39m\u001b[38;5;124m\"\u001b[39m\u001b[38;5;124mCustom classes or functions exported with your `Learner` not available in namespace.\u001b[39m\u001b[38;5;124m\\\u001b[39m\u001b[38;5;124mRe-declare/import before loading:\u001b[39m\u001b[38;5;130;01m\\n\u001b[39;00m\u001b[38;5;130;01m\\t\u001b[39;00m\u001b[38;5;132;01m{\u001b[39;00me\u001b[38;5;241m.\u001b[39margs[\u001b[38;5;241m0\u001b[39m]\u001b[38;5;132;01m}\u001b[39;00m\u001b[38;5;124m\"\u001b[39m]\n",
            "File \u001b[1;32mc:\\Users\\NITRO5\\anaconda3\\envs\\llmenv\\lib\\site-packages\\torch\\serialization.py:1014\u001b[0m, in \u001b[0;36mload\u001b[1;34m(f, map_location, pickle_module, weights_only, mmap, **pickle_load_args)\u001b[0m\n\u001b[0;32m   1012\u001b[0m             \u001b[38;5;28;01mexcept\u001b[39;00m \u001b[38;5;167;01mRuntimeError\u001b[39;00m \u001b[38;5;28;01mas\u001b[39;00m e:\n\u001b[0;32m   1013\u001b[0m                 \u001b[38;5;28;01mraise\u001b[39;00m pickle\u001b[38;5;241m.\u001b[39mUnpicklingError(UNSAFE_MESSAGE \u001b[38;5;241m+\u001b[39m \u001b[38;5;28mstr\u001b[39m(e)) \u001b[38;5;28;01mfrom\u001b[39;00m \u001b[38;5;28;01mNone\u001b[39;00m\n\u001b[1;32m-> 1014\u001b[0m         \u001b[38;5;28;01mreturn\u001b[39;00m _load(opened_zipfile,\n\u001b[0;32m   1015\u001b[0m                      map_location,\n\u001b[0;32m   1016\u001b[0m                      pickle_module,\n\u001b[0;32m   1017\u001b[0m                      overall_storage\u001b[38;5;241m=\u001b[39moverall_storage,\n\u001b[0;32m   1018\u001b[0m                      \u001b[38;5;241m*\u001b[39m\u001b[38;5;241m*\u001b[39mpickle_load_args)\n\u001b[0;32m   1019\u001b[0m \u001b[38;5;28;01mif\u001b[39;00m mmap:\n\u001b[0;32m   1020\u001b[0m     \u001b[38;5;28;01mraise\u001b[39;00m \u001b[38;5;167;01mRuntimeError\u001b[39;00m(\u001b[38;5;124m\"\u001b[39m\u001b[38;5;124mmmap can only be used with files saved with \u001b[39m\u001b[38;5;124m\"\u001b[39m,\n\u001b[0;32m   1021\u001b[0m                        \u001b[38;5;124m\"\u001b[39m\u001b[38;5;124m`torch.save(_use_new_zipfile_serialization=True), \u001b[39m\u001b[38;5;124m\"\u001b[39m\n\u001b[0;32m   1022\u001b[0m                        \u001b[38;5;124m\"\u001b[39m\u001b[38;5;124mplease torch.save your checkpoint with this option in order to use mmap.\u001b[39m\u001b[38;5;124m\"\u001b[39m)\n",
            "File \u001b[1;32mc:\\Users\\NITRO5\\anaconda3\\envs\\llmenv\\lib\\site-packages\\torch\\serialization.py:1422\u001b[0m, in \u001b[0;36m_load\u001b[1;34m(zip_file, map_location, pickle_module, pickle_file, overall_storage, **pickle_load_args)\u001b[0m\n\u001b[0;32m   1420\u001b[0m unpickler \u001b[38;5;241m=\u001b[39m UnpicklerWrapper(data_file, \u001b[38;5;241m*\u001b[39m\u001b[38;5;241m*\u001b[39mpickle_load_args)\n\u001b[0;32m   1421\u001b[0m unpickler\u001b[38;5;241m.\u001b[39mpersistent_load \u001b[38;5;241m=\u001b[39m persistent_load\n\u001b[1;32m-> 1422\u001b[0m result \u001b[38;5;241m=\u001b[39m \u001b[43munpickler\u001b[49m\u001b[38;5;241;43m.\u001b[39;49m\u001b[43mload\u001b[49m\u001b[43m(\u001b[49m\u001b[43m)\u001b[49m\n\u001b[0;32m   1424\u001b[0m torch\u001b[38;5;241m.\u001b[39m_utils\u001b[38;5;241m.\u001b[39m_validate_loaded_sparse_tensors()\n\u001b[0;32m   1425\u001b[0m torch\u001b[38;5;241m.\u001b[39m_C\u001b[38;5;241m.\u001b[39m_log_api_usage_metadata(\n\u001b[0;32m   1426\u001b[0m     \u001b[38;5;124m\"\u001b[39m\u001b[38;5;124mtorch.load.metadata\u001b[39m\u001b[38;5;124m\"\u001b[39m, {\u001b[38;5;124m\"\u001b[39m\u001b[38;5;124mserialization_id\u001b[39m\u001b[38;5;124m\"\u001b[39m: zip_file\u001b[38;5;241m.\u001b[39mserialization_id()}\n\u001b[0;32m   1427\u001b[0m )\n",
            "File \u001b[1;32mc:\\Users\\NITRO5\\anaconda3\\envs\\llmenv\\lib\\pathlib.py:962\u001b[0m, in \u001b[0;36mPath.__new__\u001b[1;34m(cls, *args, **kwargs)\u001b[0m\n\u001b[0;32m    960\u001b[0m \u001b[38;5;28mself\u001b[39m \u001b[38;5;241m=\u001b[39m \u001b[38;5;28mcls\u001b[39m\u001b[38;5;241m.\u001b[39m_from_parts(args)\n\u001b[0;32m    961\u001b[0m \u001b[38;5;28;01mif\u001b[39;00m \u001b[38;5;129;01mnot\u001b[39;00m \u001b[38;5;28mself\u001b[39m\u001b[38;5;241m.\u001b[39m_flavour\u001b[38;5;241m.\u001b[39mis_supported:\n\u001b[1;32m--> 962\u001b[0m     \u001b[38;5;28;01mraise\u001b[39;00m \u001b[38;5;167;01mNotImplementedError\u001b[39;00m(\u001b[38;5;124m\"\u001b[39m\u001b[38;5;124mcannot instantiate \u001b[39m\u001b[38;5;132;01m%r\u001b[39;00m\u001b[38;5;124m on your system\u001b[39m\u001b[38;5;124m\"\u001b[39m\n\u001b[0;32m    963\u001b[0m                               \u001b[38;5;241m%\u001b[39m (\u001b[38;5;28mcls\u001b[39m\u001b[38;5;241m.\u001b[39m\u001b[38;5;18m__name__\u001b[39m,))\n\u001b[0;32m    964\u001b[0m \u001b[38;5;28;01mreturn\u001b[39;00m \u001b[38;5;28mself\u001b[39m\n",
            "\u001b[1;31mNotImplementedError\u001b[0m: cannot instantiate 'PosixPath' on your system"
          ]
        }
      ],
      "source": [
        "path = Path()\n",
        "learn_inf = load_learner(path/'./export.pkl', cpu = True)\n",
        "btn_upload = widgets.FileUpload()\n",
        "out_pl = widgets.Output()\n",
        "lbl_pred = widgets.Label()"
      ]
    },
    {
      "cell_type": "code",
      "execution_count": 3,
      "metadata": {
        "id": "b8DppkEifeFX"
      },
      "outputs": [],
      "source": [
        "def on_data_change(change):\n",
        "  lbl_pred.value = ''\n",
        "  img = PILImage.create(btn_upload.data[-1])\n",
        "  out_pl.clear_output()\n",
        "  with out_pl: display(img.to_thumb(128, 128))\n",
        "  pred, pred_idx, probs = learn_inf.predict(img)\n",
        "  lbl_pred.value = f'Prediction: {pred}; Probability: {probs[pred_idx]:.04f}'"
      ]
    },
    {
      "cell_type": "code",
      "execution_count": 4,
      "metadata": {
        "id": "jq5wBi6UqV-7"
      },
      "outputs": [
        {
          "ename": "NameError",
          "evalue": "name 'btn_upload' is not defined",
          "output_type": "error",
          "traceback": [
            "\u001b[1;31m---------------------------------------------------------------------------\u001b[0m",
            "\u001b[1;31mNameError\u001b[0m                                 Traceback (most recent call last)",
            "Cell \u001b[1;32mIn[4], line 1\u001b[0m\n\u001b[1;32m----> 1\u001b[0m \u001b[43mbtn_upload\u001b[49m\u001b[38;5;241m.\u001b[39mobserve(on_data_change, names \u001b[38;5;241m=\u001b[39m [\u001b[38;5;124m'\u001b[39m\u001b[38;5;124mdata\u001b[39m\u001b[38;5;124m'\u001b[39m])\n",
            "\u001b[1;31mNameError\u001b[0m: name 'btn_upload' is not defined"
          ]
        }
      ],
      "source": [
        "btn_upload.observe(on_data_change, names = ['data'])"
      ]
    },
    {
      "cell_type": "code",
      "execution_count": 5,
      "metadata": {
        "colab": {
          "base_uri": "https://localhost:8080/",
          "height": 113,
          "referenced_widgets": [
            "7ff0dfb8db4f4918ac243395f87c0d47",
            "74d63c8b55b14f35b30010332b254eeb",
            "79a3eaf8103343a59bbb03d577126858",
            "e8f59d4d34f3447cb993febb79667872",
            "720126558715433ea3c3cfe4be06a937",
            "dd991f2474134bdd8f4cbe73f1c25212",
            "f174005224ef4918a84cbe101f3ad096",
            "237495e319c34823bba04210275909c6",
            "b61afda29a40425f93cbbd46a3f360b3",
            "d5eeb25ef1c948ff9404d0dfd8aa6ba0",
            "308cd08ad83b4861ae89fed3d8b10dc1",
            "2ec543a89a014956b2b16439314cd377",
            "801331cf8bf54dc88be35361d7863f0a"
          ]
        },
        "id": "35j0GFM0qZUc",
        "outputId": "f9af9a3d-59f2-446f-bdec-3878549c5177"
      },
      "outputs": [
        {
          "ename": "NameError",
          "evalue": "name 'VBox' is not defined",
          "output_type": "error",
          "traceback": [
            "\u001b[1;31m---------------------------------------------------------------------------\u001b[0m",
            "\u001b[1;31mNameError\u001b[0m                                 Traceback (most recent call last)",
            "Cell \u001b[1;32mIn[5], line 1\u001b[0m\n\u001b[1;32m----> 1\u001b[0m display(\u001b[43mVBox\u001b[49m([widgets\u001b[38;5;241m.\u001b[39mLabel(\u001b[38;5;124m'\u001b[39m\u001b[38;5;124mSelect your bear!\u001b[39m\u001b[38;5;124m'\u001b[39m), btn_upload, out_pl, lbl_pred]))\n",
            "\u001b[1;31mNameError\u001b[0m: name 'VBox' is not defined"
          ]
        }
      ],
      "source": [
        "display(VBox([widgets.Label('Select your bear!'), btn_upload, out_pl, lbl_pred]))"
      ]
    },
    {
      "cell_type": "code",
      "execution_count": null,
      "metadata": {
        "id": "KzuR6Xubqoon"
      },
      "outputs": [],
      "source": []
    },
    {
      "cell_type": "code",
      "execution_count": null,
      "metadata": {},
      "outputs": [],
      "source": []
    },
    {
      "cell_type": "code",
      "execution_count": null,
      "metadata": {},
      "outputs": [],
      "source": []
    },
    {
      "cell_type": "code",
      "execution_count": null,
      "metadata": {},
      "outputs": [],
      "source": []
    },
    {
      "cell_type": "code",
      "execution_count": null,
      "metadata": {},
      "outputs": [],
      "source": []
    },
    {
      "cell_type": "code",
      "execution_count": null,
      "metadata": {},
      "outputs": [],
      "source": []
    },
    {
      "cell_type": "code",
      "execution_count": null,
      "metadata": {},
      "outputs": [],
      "source": []
    }
  ],
  "metadata": {
    "colab": {
      "provenance": []
    },
    "kernelspec": {
      "display_name": "Python 3",
      "name": "python3"
    },
    "language_info": {
      "codemirror_mode": {
        "name": "ipython",
        "version": 3
      },
      "file_extension": ".py",
      "mimetype": "text/x-python",
      "name": "python",
      "nbconvert_exporter": "python",
      "pygments_lexer": "ipython3",
      "version": "3.10.13"
    },
    "widgets": {
      "application/vnd.jupyter.widget-state+json": {
        "237495e319c34823bba04210275909c6": {
          "model_module": "@jupyter-widgets/controls",
          "model_module_version": "1.5.0",
          "model_name": "DescriptionStyleModel",
          "state": {
            "_model_module": "@jupyter-widgets/controls",
            "_model_module_version": "1.5.0",
            "_model_name": "DescriptionStyleModel",
            "_view_count": null,
            "_view_module": "@jupyter-widgets/base",
            "_view_module_version": "1.2.0",
            "_view_name": "StyleView",
            "description_width": ""
          }
        },
        "2ec543a89a014956b2b16439314cd377": {
          "model_module": "@jupyter-widgets/controls",
          "model_module_version": "1.5.0",
          "model_name": "DescriptionStyleModel",
          "state": {
            "_model_module": "@jupyter-widgets/controls",
            "_model_module_version": "1.5.0",
            "_model_name": "DescriptionStyleModel",
            "_view_count": null,
            "_view_module": "@jupyter-widgets/base",
            "_view_module_version": "1.2.0",
            "_view_name": "StyleView",
            "description_width": ""
          }
        },
        "308cd08ad83b4861ae89fed3d8b10dc1": {
          "model_module": "@jupyter-widgets/base",
          "model_module_version": "1.2.0",
          "model_name": "LayoutModel",
          "state": {
            "_model_module": "@jupyter-widgets/base",
            "_model_module_version": "1.2.0",
            "_model_name": "LayoutModel",
            "_view_count": null,
            "_view_module": "@jupyter-widgets/base",
            "_view_module_version": "1.2.0",
            "_view_name": "LayoutView",
            "align_content": null,
            "align_items": null,
            "align_self": null,
            "border": null,
            "bottom": null,
            "display": null,
            "flex": null,
            "flex_flow": null,
            "grid_area": null,
            "grid_auto_columns": null,
            "grid_auto_flow": null,
            "grid_auto_rows": null,
            "grid_column": null,
            "grid_gap": null,
            "grid_row": null,
            "grid_template_areas": null,
            "grid_template_columns": null,
            "grid_template_rows": null,
            "height": null,
            "justify_content": null,
            "justify_items": null,
            "left": null,
            "margin": null,
            "max_height": null,
            "max_width": null,
            "min_height": null,
            "min_width": null,
            "object_fit": null,
            "object_position": null,
            "order": null,
            "overflow": null,
            "overflow_x": null,
            "overflow_y": null,
            "padding": null,
            "right": null,
            "top": null,
            "visibility": null,
            "width": null
          }
        },
        "720126558715433ea3c3cfe4be06a937": {
          "model_module": "@jupyter-widgets/controls",
          "model_module_version": "1.5.0",
          "model_name": "LabelModel",
          "state": {
            "_dom_classes": [],
            "_model_module": "@jupyter-widgets/controls",
            "_model_module_version": "1.5.0",
            "_model_name": "LabelModel",
            "_view_count": null,
            "_view_module": "@jupyter-widgets/controls",
            "_view_module_version": "1.5.0",
            "_view_name": "LabelView",
            "description": "",
            "description_tooltip": null,
            "layout": "IPY_MODEL_308cd08ad83b4861ae89fed3d8b10dc1",
            "placeholder": "​",
            "style": "IPY_MODEL_2ec543a89a014956b2b16439314cd377",
            "value": ""
          }
        },
        "74d63c8b55b14f35b30010332b254eeb": {
          "model_module": "@jupyter-widgets/controls",
          "model_module_version": "1.5.0",
          "model_name": "LabelModel",
          "state": {
            "_dom_classes": [],
            "_model_module": "@jupyter-widgets/controls",
            "_model_module_version": "1.5.0",
            "_model_name": "LabelModel",
            "_view_count": null,
            "_view_module": "@jupyter-widgets/controls",
            "_view_module_version": "1.5.0",
            "_view_name": "LabelView",
            "description": "",
            "description_tooltip": null,
            "layout": "IPY_MODEL_f174005224ef4918a84cbe101f3ad096",
            "placeholder": "​",
            "style": "IPY_MODEL_237495e319c34823bba04210275909c6",
            "value": "Select your bear!"
          }
        },
        "79a3eaf8103343a59bbb03d577126858": {
          "model_module": "@jupyter-widgets/controls",
          "model_module_version": "1.5.0",
          "model_name": "FileUploadModel",
          "state": {
            "_counter": 0,
            "_dom_classes": [],
            "_model_module": "@jupyter-widgets/controls",
            "_model_module_version": "1.5.0",
            "_model_name": "FileUploadModel",
            "_view_count": null,
            "_view_module": "@jupyter-widgets/controls",
            "_view_module_version": "1.5.0",
            "_view_name": "FileUploadView",
            "accept": "",
            "button_style": "",
            "data": [],
            "description": "Upload",
            "description_tooltip": null,
            "disabled": false,
            "error": "",
            "icon": "upload",
            "layout": "IPY_MODEL_b61afda29a40425f93cbbd46a3f360b3",
            "metadata": [],
            "multiple": false,
            "style": "IPY_MODEL_d5eeb25ef1c948ff9404d0dfd8aa6ba0"
          }
        },
        "7ff0dfb8db4f4918ac243395f87c0d47": {
          "model_module": "@jupyter-widgets/controls",
          "model_module_version": "1.5.0",
          "model_name": "VBoxModel",
          "state": {
            "_dom_classes": [],
            "_model_module": "@jupyter-widgets/controls",
            "_model_module_version": "1.5.0",
            "_model_name": "VBoxModel",
            "_view_count": null,
            "_view_module": "@jupyter-widgets/controls",
            "_view_module_version": "1.5.0",
            "_view_name": "VBoxView",
            "box_style": "",
            "children": [
              "IPY_MODEL_74d63c8b55b14f35b30010332b254eeb",
              "IPY_MODEL_79a3eaf8103343a59bbb03d577126858",
              "IPY_MODEL_e8f59d4d34f3447cb993febb79667872",
              "IPY_MODEL_720126558715433ea3c3cfe4be06a937"
            ],
            "layout": "IPY_MODEL_dd991f2474134bdd8f4cbe73f1c25212"
          }
        },
        "801331cf8bf54dc88be35361d7863f0a": {
          "model_module": "@jupyter-widgets/base",
          "model_module_version": "1.2.0",
          "model_name": "LayoutModel",
          "state": {
            "_model_module": "@jupyter-widgets/base",
            "_model_module_version": "1.2.0",
            "_model_name": "LayoutModel",
            "_view_count": null,
            "_view_module": "@jupyter-widgets/base",
            "_view_module_version": "1.2.0",
            "_view_name": "LayoutView",
            "align_content": null,
            "align_items": null,
            "align_self": null,
            "border": null,
            "bottom": null,
            "display": null,
            "flex": null,
            "flex_flow": null,
            "grid_area": null,
            "grid_auto_columns": null,
            "grid_auto_flow": null,
            "grid_auto_rows": null,
            "grid_column": null,
            "grid_gap": null,
            "grid_row": null,
            "grid_template_areas": null,
            "grid_template_columns": null,
            "grid_template_rows": null,
            "height": null,
            "justify_content": null,
            "justify_items": null,
            "left": null,
            "margin": null,
            "max_height": null,
            "max_width": null,
            "min_height": null,
            "min_width": null,
            "object_fit": null,
            "object_position": null,
            "order": null,
            "overflow": null,
            "overflow_x": null,
            "overflow_y": null,
            "padding": null,
            "right": null,
            "top": null,
            "visibility": null,
            "width": null
          }
        },
        "b61afda29a40425f93cbbd46a3f360b3": {
          "model_module": "@jupyter-widgets/base",
          "model_module_version": "1.2.0",
          "model_name": "LayoutModel",
          "state": {
            "_model_module": "@jupyter-widgets/base",
            "_model_module_version": "1.2.0",
            "_model_name": "LayoutModel",
            "_view_count": null,
            "_view_module": "@jupyter-widgets/base",
            "_view_module_version": "1.2.0",
            "_view_name": "LayoutView",
            "align_content": null,
            "align_items": null,
            "align_self": null,
            "border": null,
            "bottom": null,
            "display": null,
            "flex": null,
            "flex_flow": null,
            "grid_area": null,
            "grid_auto_columns": null,
            "grid_auto_flow": null,
            "grid_auto_rows": null,
            "grid_column": null,
            "grid_gap": null,
            "grid_row": null,
            "grid_template_areas": null,
            "grid_template_columns": null,
            "grid_template_rows": null,
            "height": null,
            "justify_content": null,
            "justify_items": null,
            "left": null,
            "margin": null,
            "max_height": null,
            "max_width": null,
            "min_height": null,
            "min_width": null,
            "object_fit": null,
            "object_position": null,
            "order": null,
            "overflow": null,
            "overflow_x": null,
            "overflow_y": null,
            "padding": null,
            "right": null,
            "top": null,
            "visibility": null,
            "width": null
          }
        },
        "d5eeb25ef1c948ff9404d0dfd8aa6ba0": {
          "model_module": "@jupyter-widgets/controls",
          "model_module_version": "1.5.0",
          "model_name": "ButtonStyleModel",
          "state": {
            "_model_module": "@jupyter-widgets/controls",
            "_model_module_version": "1.5.0",
            "_model_name": "ButtonStyleModel",
            "_view_count": null,
            "_view_module": "@jupyter-widgets/base",
            "_view_module_version": "1.2.0",
            "_view_name": "StyleView",
            "button_color": null,
            "font_weight": ""
          }
        },
        "dd991f2474134bdd8f4cbe73f1c25212": {
          "model_module": "@jupyter-widgets/base",
          "model_module_version": "1.2.0",
          "model_name": "LayoutModel",
          "state": {
            "_model_module": "@jupyter-widgets/base",
            "_model_module_version": "1.2.0",
            "_model_name": "LayoutModel",
            "_view_count": null,
            "_view_module": "@jupyter-widgets/base",
            "_view_module_version": "1.2.0",
            "_view_name": "LayoutView",
            "align_content": null,
            "align_items": null,
            "align_self": null,
            "border": null,
            "bottom": null,
            "display": null,
            "flex": null,
            "flex_flow": null,
            "grid_area": null,
            "grid_auto_columns": null,
            "grid_auto_flow": null,
            "grid_auto_rows": null,
            "grid_column": null,
            "grid_gap": null,
            "grid_row": null,
            "grid_template_areas": null,
            "grid_template_columns": null,
            "grid_template_rows": null,
            "height": null,
            "justify_content": null,
            "justify_items": null,
            "left": null,
            "margin": null,
            "max_height": null,
            "max_width": null,
            "min_height": null,
            "min_width": null,
            "object_fit": null,
            "object_position": null,
            "order": null,
            "overflow": null,
            "overflow_x": null,
            "overflow_y": null,
            "padding": null,
            "right": null,
            "top": null,
            "visibility": null,
            "width": null
          }
        },
        "e8f59d4d34f3447cb993febb79667872": {
          "model_module": "@jupyter-widgets/output",
          "model_module_version": "1.0.0",
          "model_name": "OutputModel",
          "state": {
            "_dom_classes": [],
            "_model_module": "@jupyter-widgets/output",
            "_model_module_version": "1.0.0",
            "_model_name": "OutputModel",
            "_view_count": null,
            "_view_module": "@jupyter-widgets/output",
            "_view_module_version": "1.0.0",
            "_view_name": "OutputView",
            "layout": "IPY_MODEL_801331cf8bf54dc88be35361d7863f0a",
            "msg_id": "",
            "outputs": []
          }
        },
        "f174005224ef4918a84cbe101f3ad096": {
          "model_module": "@jupyter-widgets/base",
          "model_module_version": "1.2.0",
          "model_name": "LayoutModel",
          "state": {
            "_model_module": "@jupyter-widgets/base",
            "_model_module_version": "1.2.0",
            "_model_name": "LayoutModel",
            "_view_count": null,
            "_view_module": "@jupyter-widgets/base",
            "_view_module_version": "1.2.0",
            "_view_name": "LayoutView",
            "align_content": null,
            "align_items": null,
            "align_self": null,
            "border": null,
            "bottom": null,
            "display": null,
            "flex": null,
            "flex_flow": null,
            "grid_area": null,
            "grid_auto_columns": null,
            "grid_auto_flow": null,
            "grid_auto_rows": null,
            "grid_column": null,
            "grid_gap": null,
            "grid_row": null,
            "grid_template_areas": null,
            "grid_template_columns": null,
            "grid_template_rows": null,
            "height": null,
            "justify_content": null,
            "justify_items": null,
            "left": null,
            "margin": null,
            "max_height": null,
            "max_width": null,
            "min_height": null,
            "min_width": null,
            "object_fit": null,
            "object_position": null,
            "order": null,
            "overflow": null,
            "overflow_x": null,
            "overflow_y": null,
            "padding": null,
            "right": null,
            "top": null,
            "visibility": null,
            "width": null
          }
        }
      }
    }
  },
  "nbformat": 4,
  "nbformat_minor": 0
}
