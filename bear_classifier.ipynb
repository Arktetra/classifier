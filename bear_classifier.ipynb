{
  "cells": [
    {
      "cell_type": "code",
      "execution_count": null,
      "metadata": {},
      "outputs": [],
      "source": [
        "from fastai.vision.all import *\n",
        "from fastai.vision.widgets import *"
      ]
    },
    {
      "cell_type": "code",
      "execution_count": 1,
      "metadata": {
        "colab": {
          "base_uri": "https://localhost:8080/"
        },
        "id": "iWBq5b7DqsU4",
        "outputId": "2160d00e-91a5-4f3d-bfde-59ad02328d82"
      },
      "outputs": [
        {
          "name": "stdout",
          "output_type": "stream",
          "text": [
            "Collecting voila\n",
            "  Obtaining dependency information for voila from https://files.pythonhosted.org/packages/25/28/7b9d6c2597bd86b25936df550f9b88319ee79721f095c90dca822c053692/voila-0.5.5-py3-none-any.whl.metadata\n",
            "  Downloading voila-0.5.5-py3-none-any.whl.metadata (9.0 kB)\n",
            "Requirement already satisfied: jupyter-client<9,>=7.4.4 in c:\\users\\nitro5\\anaconda3\\envs\\llmenv\\lib\\site-packages (from voila) (8.4.0)\n",
            "Requirement already satisfied: jupyter-core>=4.11.0 in c:\\users\\nitro5\\anaconda3\\envs\\llmenv\\lib\\site-packages (from voila) (5.4.0)\n",
            "Requirement already satisfied: jupyter-server<3,>=2.0.0 in c:\\users\\nitro5\\anaconda3\\envs\\llmenv\\lib\\site-packages (from voila) (2.7.3)\n",
            "Requirement already satisfied: jupyterlab-server<3,>=2.3.0 in c:\\users\\nitro5\\anaconda3\\envs\\llmenv\\lib\\site-packages (from voila) (2.25.0)\n",
            "Collecting nbclient<0.8,>=0.4.0 (from voila)\n",
            "  Downloading nbclient-0.7.4-py3-none-any.whl (73 kB)\n",
            "     ---------------------------------------- 0.0/73.1 kB ? eta -:--:--\n",
            "     ----- ---------------------------------- 10.2/73.1 kB ? eta -:--:--\n",
            "     ---------------------------------------- 73.1/73.1 kB 1.0 MB/s eta 0:00:00\n",
            "Requirement already satisfied: nbconvert<8,>=6.4.5 in c:\\users\\nitro5\\anaconda3\\envs\\llmenv\\lib\\site-packages (from voila) (7.9.2)\n",
            "Requirement already satisfied: traitlets<6,>=5.0.3 in c:\\users\\nitro5\\anaconda3\\envs\\llmenv\\lib\\site-packages (from voila) (5.11.2)\n",
            "Collecting websockets>=9.0 (from voila)\n",
            "  Obtaining dependency information for websockets>=9.0 from https://files.pythonhosted.org/packages/41/b0/5ec054cfcf23adfc88d39359b85e81d043af8a141e3ac8ce40f45a5ce5f4/websockets-12.0-cp310-cp310-win_amd64.whl.metadata\n",
            "  Downloading websockets-12.0-cp310-cp310-win_amd64.whl.metadata (6.8 kB)\n",
            "Requirement already satisfied: python-dateutil>=2.8.2 in c:\\users\\nitro5\\anaconda3\\envs\\llmenv\\lib\\site-packages (from jupyter-client<9,>=7.4.4->voila) (2.8.2)\n",
            "Requirement already satisfied: pyzmq>=23.0 in c:\\users\\nitro5\\anaconda3\\envs\\llmenv\\lib\\site-packages (from jupyter-client<9,>=7.4.4->voila) (25.1.1)\n",
            "Requirement already satisfied: tornado>=6.2 in c:\\users\\nitro5\\anaconda3\\envs\\llmenv\\lib\\site-packages (from jupyter-client<9,>=7.4.4->voila) (6.3.3)\n",
            "Requirement already satisfied: platformdirs>=2.5 in c:\\users\\nitro5\\anaconda3\\envs\\llmenv\\lib\\site-packages (from jupyter-core>=4.11.0->voila) (3.11.0)\n",
            "Requirement already satisfied: pywin32>=300 in c:\\users\\nitro5\\anaconda3\\envs\\llmenv\\lib\\site-packages (from jupyter-core>=4.11.0->voila) (306)\n",
            "Requirement already satisfied: anyio>=3.1.0 in c:\\users\\nitro5\\anaconda3\\envs\\llmenv\\lib\\site-packages (from jupyter-server<3,>=2.0.0->voila) (4.0.0)\n",
            "Requirement already satisfied: argon2-cffi in c:\\users\\nitro5\\anaconda3\\envs\\llmenv\\lib\\site-packages (from jupyter-server<3,>=2.0.0->voila) (23.1.0)\n",
            "Requirement already satisfied: jinja2 in c:\\users\\nitro5\\anaconda3\\envs\\llmenv\\lib\\site-packages (from jupyter-server<3,>=2.0.0->voila) (3.1.2)\n",
            "Requirement already satisfied: jupyter-events>=0.6.0 in c:\\users\\nitro5\\anaconda3\\envs\\llmenv\\lib\\site-packages (from jupyter-server<3,>=2.0.0->voila) (0.7.0)\n",
            "Requirement already satisfied: jupyter-server-terminals in c:\\users\\nitro5\\anaconda3\\envs\\llmenv\\lib\\site-packages (from jupyter-server<3,>=2.0.0->voila) (0.4.4)\n",
            "Requirement already satisfied: nbformat>=5.3.0 in c:\\users\\nitro5\\anaconda3\\envs\\llmenv\\lib\\site-packages (from jupyter-server<3,>=2.0.0->voila) (5.9.2)\n",
            "Requirement already satisfied: overrides in c:\\users\\nitro5\\anaconda3\\envs\\llmenv\\lib\\site-packages (from jupyter-server<3,>=2.0.0->voila) (7.4.0)\n",
            "Requirement already satisfied: packaging in c:\\users\\nitro5\\anaconda3\\envs\\llmenv\\lib\\site-packages (from jupyter-server<3,>=2.0.0->voila) (23.2)\n",
            "Requirement already satisfied: prometheus-client in c:\\users\\nitro5\\anaconda3\\envs\\llmenv\\lib\\site-packages (from jupyter-server<3,>=2.0.0->voila) (0.17.1)\n",
            "Requirement already satisfied: pywinpty in c:\\users\\nitro5\\anaconda3\\envs\\llmenv\\lib\\site-packages (from jupyter-server<3,>=2.0.0->voila) (2.0.12)\n",
            "Requirement already satisfied: send2trash>=1.8.2 in c:\\users\\nitro5\\anaconda3\\envs\\llmenv\\lib\\site-packages (from jupyter-server<3,>=2.0.0->voila) (1.8.2)\n",
            "Requirement already satisfied: terminado>=0.8.3 in c:\\users\\nitro5\\anaconda3\\envs\\llmenv\\lib\\site-packages (from jupyter-server<3,>=2.0.0->voila) (0.17.1)\n",
            "Requirement already satisfied: websocket-client in c:\\users\\nitro5\\anaconda3\\envs\\llmenv\\lib\\site-packages (from jupyter-server<3,>=2.0.0->voila) (1.6.4)\n",
            "Requirement already satisfied: babel>=2.10 in c:\\users\\nitro5\\anaconda3\\envs\\llmenv\\lib\\site-packages (from jupyterlab-server<3,>=2.3.0->voila) (2.13.0)\n",
            "Requirement already satisfied: json5>=0.9.0 in c:\\users\\nitro5\\anaconda3\\envs\\llmenv\\lib\\site-packages (from jupyterlab-server<3,>=2.3.0->voila) (0.9.14)\n",
            "Requirement already satisfied: jsonschema>=4.18.0 in c:\\users\\nitro5\\anaconda3\\envs\\llmenv\\lib\\site-packages (from jupyterlab-server<3,>=2.3.0->voila) (4.19.1)\n",
            "Requirement already satisfied: requests>=2.31 in c:\\users\\nitro5\\anaconda3\\envs\\llmenv\\lib\\site-packages (from jupyterlab-server<3,>=2.3.0->voila) (2.31.0)\n",
            "Requirement already satisfied: beautifulsoup4 in c:\\users\\nitro5\\anaconda3\\envs\\llmenv\\lib\\site-packages (from nbconvert<8,>=6.4.5->voila) (4.12.2)\n",
            "Requirement already satisfied: bleach!=5.0.0 in c:\\users\\nitro5\\anaconda3\\envs\\llmenv\\lib\\site-packages (from nbconvert<8,>=6.4.5->voila) (6.1.0)\n",
            "Requirement already satisfied: defusedxml in c:\\users\\nitro5\\anaconda3\\envs\\llmenv\\lib\\site-packages (from nbconvert<8,>=6.4.5->voila) (0.7.1)\n",
            "Requirement already satisfied: jupyterlab-pygments in c:\\users\\nitro5\\anaconda3\\envs\\llmenv\\lib\\site-packages (from nbconvert<8,>=6.4.5->voila) (0.2.2)\n",
            "Requirement already satisfied: markupsafe>=2.0 in c:\\users\\nitro5\\anaconda3\\envs\\llmenv\\lib\\site-packages (from nbconvert<8,>=6.4.5->voila) (2.1.3)\n",
            "Requirement already satisfied: mistune<4,>=2.0.3 in c:\\users\\nitro5\\anaconda3\\envs\\llmenv\\lib\\site-packages (from nbconvert<8,>=6.4.5->voila) (3.0.2)\n",
            "Requirement already satisfied: pandocfilters>=1.4.1 in c:\\users\\nitro5\\anaconda3\\envs\\llmenv\\lib\\site-packages (from nbconvert<8,>=6.4.5->voila) (1.5.0)\n",
            "Requirement already satisfied: pygments>=2.4.1 in c:\\users\\nitro5\\anaconda3\\envs\\llmenv\\lib\\site-packages (from nbconvert<8,>=6.4.5->voila) (2.16.1)\n",
            "Requirement already satisfied: tinycss2 in c:\\users\\nitro5\\anaconda3\\envs\\llmenv\\lib\\site-packages (from nbconvert<8,>=6.4.5->voila) (1.2.1)\n",
            "Requirement already satisfied: idna>=2.8 in c:\\users\\nitro5\\anaconda3\\envs\\llmenv\\lib\\site-packages (from anyio>=3.1.0->jupyter-server<3,>=2.0.0->voila) (3.4)\n",
            "Requirement already satisfied: sniffio>=1.1 in c:\\users\\nitro5\\anaconda3\\envs\\llmenv\\lib\\site-packages (from anyio>=3.1.0->jupyter-server<3,>=2.0.0->voila) (1.3.0)\n",
            "Requirement already satisfied: exceptiongroup>=1.0.2 in c:\\users\\nitro5\\anaconda3\\envs\\llmenv\\lib\\site-packages (from anyio>=3.1.0->jupyter-server<3,>=2.0.0->voila) (1.1.3)\n",
            "Requirement already satisfied: six>=1.9.0 in c:\\users\\nitro5\\anaconda3\\envs\\llmenv\\lib\\site-packages (from bleach!=5.0.0->nbconvert<8,>=6.4.5->voila) (1.16.0)\n",
            "Requirement already satisfied: webencodings in c:\\users\\nitro5\\anaconda3\\envs\\llmenv\\lib\\site-packages (from bleach!=5.0.0->nbconvert<8,>=6.4.5->voila) (0.5.1)\n",
            "Requirement already satisfied: attrs>=22.2.0 in c:\\users\\nitro5\\anaconda3\\envs\\llmenv\\lib\\site-packages (from jsonschema>=4.18.0->jupyterlab-server<3,>=2.3.0->voila) (23.1.0)\n",
            "Requirement already satisfied: jsonschema-specifications>=2023.03.6 in c:\\users\\nitro5\\anaconda3\\envs\\llmenv\\lib\\site-packages (from jsonschema>=4.18.0->jupyterlab-server<3,>=2.3.0->voila) (2023.7.1)\n",
            "Requirement already satisfied: referencing>=0.28.4 in c:\\users\\nitro5\\anaconda3\\envs\\llmenv\\lib\\site-packages (from jsonschema>=4.18.0->jupyterlab-server<3,>=2.3.0->voila) (0.30.2)\n",
            "Requirement already satisfied: rpds-py>=0.7.1 in c:\\users\\nitro5\\anaconda3\\envs\\llmenv\\lib\\site-packages (from jsonschema>=4.18.0->jupyterlab-server<3,>=2.3.0->voila) (0.10.6)\n",
            "Requirement already satisfied: python-json-logger>=2.0.4 in c:\\users\\nitro5\\anaconda3\\envs\\llmenv\\lib\\site-packages (from jupyter-events>=0.6.0->jupyter-server<3,>=2.0.0->voila) (2.0.7)\n",
            "Requirement already satisfied: pyyaml>=5.3 in c:\\users\\nitro5\\anaconda3\\envs\\llmenv\\lib\\site-packages (from jupyter-events>=0.6.0->jupyter-server<3,>=2.0.0->voila) (6.0.1)\n",
            "Requirement already satisfied: rfc3339-validator in c:\\users\\nitro5\\anaconda3\\envs\\llmenv\\lib\\site-packages (from jupyter-events>=0.6.0->jupyter-server<3,>=2.0.0->voila) (0.1.4)\n",
            "Requirement already satisfied: rfc3986-validator>=0.1.1 in c:\\users\\nitro5\\anaconda3\\envs\\llmenv\\lib\\site-packages (from jupyter-events>=0.6.0->jupyter-server<3,>=2.0.0->voila) (0.1.1)\n",
            "Requirement already satisfied: fastjsonschema in c:\\users\\nitro5\\anaconda3\\envs\\llmenv\\lib\\site-packages (from nbformat>=5.3.0->jupyter-server<3,>=2.0.0->voila) (2.18.1)\n",
            "Requirement already satisfied: charset-normalizer<4,>=2 in c:\\users\\nitro5\\anaconda3\\envs\\llmenv\\lib\\site-packages (from requests>=2.31->jupyterlab-server<3,>=2.3.0->voila) (3.3.0)\n",
            "Requirement already satisfied: urllib3<3,>=1.21.1 in c:\\users\\nitro5\\anaconda3\\envs\\llmenv\\lib\\site-packages (from requests>=2.31->jupyterlab-server<3,>=2.3.0->voila) (2.0.6)\n",
            "Requirement already satisfied: certifi>=2017.4.17 in c:\\users\\nitro5\\anaconda3\\envs\\llmenv\\lib\\site-packages (from requests>=2.31->jupyterlab-server<3,>=2.3.0->voila) (2023.7.22)\n",
            "Requirement already satisfied: argon2-cffi-bindings in c:\\users\\nitro5\\anaconda3\\envs\\llmenv\\lib\\site-packages (from argon2-cffi->jupyter-server<3,>=2.0.0->voila) (21.2.0)\n",
            "Requirement already satisfied: soupsieve>1.2 in c:\\users\\nitro5\\anaconda3\\envs\\llmenv\\lib\\site-packages (from beautifulsoup4->nbconvert<8,>=6.4.5->voila) (2.5)\n",
            "Requirement already satisfied: fqdn in c:\\users\\nitro5\\anaconda3\\envs\\llmenv\\lib\\site-packages (from jsonschema>=4.18.0->jupyterlab-server<3,>=2.3.0->voila) (1.5.1)\n",
            "Requirement already satisfied: isoduration in c:\\users\\nitro5\\anaconda3\\envs\\llmenv\\lib\\site-packages (from jsonschema>=4.18.0->jupyterlab-server<3,>=2.3.0->voila) (20.11.0)\n",
            "Requirement already satisfied: jsonpointer>1.13 in c:\\users\\nitro5\\anaconda3\\envs\\llmenv\\lib\\site-packages (from jsonschema>=4.18.0->jupyterlab-server<3,>=2.3.0->voila) (2.4)\n",
            "Requirement already satisfied: uri-template in c:\\users\\nitro5\\anaconda3\\envs\\llmenv\\lib\\site-packages (from jsonschema>=4.18.0->jupyterlab-server<3,>=2.3.0->voila) (1.3.0)\n",
            "Requirement already satisfied: webcolors>=1.11 in c:\\users\\nitro5\\anaconda3\\envs\\llmenv\\lib\\site-packages (from jsonschema>=4.18.0->jupyterlab-server<3,>=2.3.0->voila) (1.13)\n",
            "Requirement already satisfied: cffi>=1.0.1 in c:\\users\\nitro5\\anaconda3\\envs\\llmenv\\lib\\site-packages (from argon2-cffi-bindings->argon2-cffi->jupyter-server<3,>=2.0.0->voila) (1.16.0)\n",
            "Requirement already satisfied: pycparser in c:\\users\\nitro5\\anaconda3\\envs\\llmenv\\lib\\site-packages (from cffi>=1.0.1->argon2-cffi-bindings->argon2-cffi->jupyter-server<3,>=2.0.0->voila) (2.21)\n",
            "Requirement already satisfied: arrow>=0.15.0 in c:\\users\\nitro5\\anaconda3\\envs\\llmenv\\lib\\site-packages (from isoduration->jsonschema>=4.18.0->jupyterlab-server<3,>=2.3.0->voila) (1.3.0)\n",
            "Requirement already satisfied: types-python-dateutil>=2.8.10 in c:\\users\\nitro5\\anaconda3\\envs\\llmenv\\lib\\site-packages (from arrow>=0.15.0->isoduration->jsonschema>=4.18.0->jupyterlab-server<3,>=2.3.0->voila) (2.8.19.14)\n",
            "Downloading voila-0.5.5-py3-none-any.whl (3.9 MB)\n",
            "   ---------------------------------------- 0.0/3.9 MB ? eta -:--:--\n",
            "   - -------------------------------------- 0.1/3.9 MB 3.2 MB/s eta 0:00:02\n",
            "   -- ------------------------------------- 0.2/3.9 MB 3.0 MB/s eta 0:00:02\n",
            "   --- ------------------------------------ 0.4/3.9 MB 3.0 MB/s eta 0:00:02\n",
            "   ----- ---------------------------------- 0.6/3.9 MB 3.2 MB/s eta 0:00:02\n",
            "   ------- -------------------------------- 0.7/3.9 MB 3.3 MB/s eta 0:00:01\n",
            "   --------- ------------------------------ 0.9/3.9 MB 3.3 MB/s eta 0:00:01\n",
            "   ----------- ---------------------------- 1.1/3.9 MB 3.5 MB/s eta 0:00:01\n",
            "   ------------- -------------------------- 1.3/3.9 MB 3.6 MB/s eta 0:00:01\n",
            "   --------------- ------------------------ 1.5/3.9 MB 3.7 MB/s eta 0:00:01\n",
            "   ------------------ --------------------- 1.8/3.9 MB 3.9 MB/s eta 0:00:01\n",
            "   -------------------- ------------------- 2.0/3.9 MB 4.0 MB/s eta 0:00:01\n",
            "   ---------------------- ----------------- 2.2/3.9 MB 4.0 MB/s eta 0:00:01\n",
            "   ------------------------- -------------- 2.5/3.9 MB 4.2 MB/s eta 0:00:01\n",
            "   ---------------------------- ----------- 2.7/3.9 MB 4.3 MB/s eta 0:00:01\n",
            "   ------------------------------- -------- 3.1/3.9 MB 4.4 MB/s eta 0:00:01\n",
            "   ---------------------------------- ----- 3.4/3.9 MB 4.6 MB/s eta 0:00:01\n",
            "   -------------------------------------- - 3.7/3.9 MB 4.7 MB/s eta 0:00:01\n",
            "   ---------------------------------------- 3.9/3.9 MB 4.7 MB/s eta 0:00:00\n",
            "Downloading websockets-12.0-cp310-cp310-win_amd64.whl (124 kB)\n",
            "   ---------------------------------------- 0.0/125.0 kB ? eta -:--:--\n",
            "   ---------------------------------------- 125.0/125.0 kB 7.2 MB/s eta 0:00:00\n",
            "Installing collected packages: websockets, nbclient, voila\n",
            "  Attempting uninstall: nbclient\n",
            "    Found existing installation: nbclient 0.8.0\n",
            "    Uninstalling nbclient-0.8.0:\n",
            "      Successfully uninstalled nbclient-0.8.0\n",
            "Successfully installed nbclient-0.7.4 voila-0.5.5 websockets-12.0\n"
          ]
        },
        {
          "name": "stderr",
          "output_type": "stream",
          "text": [
            "Enabling: voila\n",
            "- Writing config: C:\\Users\\NITRO5\\anaconda3\\etc\\jupyter\n",
            "    - Validating...\n",
            "Error loading server extension voila\n",
            "      X is voila importable?\n"
          ]
        }
      ],
      "source": [
        "! pip install voila\n",
        "! jupyter serverextension enable --sys-prefix voila"
      ]
    },
    {
      "cell_type": "code",
      "execution_count": 2,
      "metadata": {
        "id": "1_N8cZNKfNun"
      },
      "outputs": [
        {
          "ename": "ModuleNotFoundError",
          "evalue": "No module named 'fastai'",
          "output_type": "error",
          "traceback": [
            "\u001b[1;31m---------------------------------------------------------------------------\u001b[0m",
            "\u001b[1;31mModuleNotFoundError\u001b[0m                       Traceback (most recent call last)",
            "Cell \u001b[1;32mIn[2], line 1\u001b[0m\n\u001b[1;32m----> 1\u001b[0m \u001b[38;5;28;01mfrom\u001b[39;00m \u001b[38;5;21;01mfastai\u001b[39;00m\u001b[38;5;21;01m.\u001b[39;00m\u001b[38;5;21;01mvision\u001b[39;00m\u001b[38;5;21;01m.\u001b[39;00m\u001b[38;5;21;01mall\u001b[39;00m \u001b[38;5;28;01mimport\u001b[39;00m \u001b[38;5;241m*\u001b[39m\n\u001b[0;32m      2\u001b[0m \u001b[38;5;28;01mfrom\u001b[39;00m \u001b[38;5;21;01mfastai\u001b[39;00m\u001b[38;5;21;01m.\u001b[39;00m\u001b[38;5;21;01mvision\u001b[39;00m\u001b[38;5;21;01m.\u001b[39;00m\u001b[38;5;21;01mwidgets\u001b[39;00m \u001b[38;5;28;01mimport\u001b[39;00m \u001b[38;5;241m*\u001b[39m\n",
            "\u001b[1;31mModuleNotFoundError\u001b[0m: No module named 'fastai'"
          ]
        }
      ],
      "source": [
        "from fastai.vision.all import *\n",
        "from fastai.vision.widgets import *"
      ]
    },
    {
      "cell_type": "code",
      "execution_count": null,
      "metadata": {
        "id": "J9Fhug6VfS9_"
      },
      "outputs": [],
      "source": [
        "path = Path()\n",
        "learn_inf = load_learner(path/'drive/MyDrive/SavedModels/export.pkl', cpu = True)\n",
        "btn_upload = widgets.FileUpload()\n",
        "out_pl = widgets.Output()\n",
        "lbl_pred = widgets.Label()"
      ]
    },
    {
      "cell_type": "code",
      "execution_count": 3,
      "metadata": {
        "id": "b8DppkEifeFX"
      },
      "outputs": [],
      "source": [
        "def on_data_change(change):\n",
        "  lbl_pred.value = ''\n",
        "  img = PILImage.create(btn_upload.data[-1])\n",
        "  out_pl.clear_output()\n",
        "  with out_pl: display(img.to_thumb(128, 128))\n",
        "  pred, pred_idx, probs = learn_inf.predict(img)\n",
        "  lbl_pred.value = f'Prediction: {pred}; Probability: {probs[pred_idx]:.04f}'"
      ]
    },
    {
      "cell_type": "code",
      "execution_count": 4,
      "metadata": {
        "id": "jq5wBi6UqV-7"
      },
      "outputs": [
        {
          "ename": "NameError",
          "evalue": "name 'btn_upload' is not defined",
          "output_type": "error",
          "traceback": [
            "\u001b[1;31m---------------------------------------------------------------------------\u001b[0m",
            "\u001b[1;31mNameError\u001b[0m                                 Traceback (most recent call last)",
            "Cell \u001b[1;32mIn[4], line 1\u001b[0m\n\u001b[1;32m----> 1\u001b[0m \u001b[43mbtn_upload\u001b[49m\u001b[38;5;241m.\u001b[39mobserve(on_data_change, names \u001b[38;5;241m=\u001b[39m [\u001b[38;5;124m'\u001b[39m\u001b[38;5;124mdata\u001b[39m\u001b[38;5;124m'\u001b[39m])\n",
            "\u001b[1;31mNameError\u001b[0m: name 'btn_upload' is not defined"
          ]
        }
      ],
      "source": [
        "btn_upload.observe(on_data_change, names = ['data'])"
      ]
    },
    {
      "cell_type": "code",
      "execution_count": 5,
      "metadata": {
        "colab": {
          "base_uri": "https://localhost:8080/",
          "height": 113,
          "referenced_widgets": [
            "7ff0dfb8db4f4918ac243395f87c0d47",
            "74d63c8b55b14f35b30010332b254eeb",
            "79a3eaf8103343a59bbb03d577126858",
            "e8f59d4d34f3447cb993febb79667872",
            "720126558715433ea3c3cfe4be06a937",
            "dd991f2474134bdd8f4cbe73f1c25212",
            "f174005224ef4918a84cbe101f3ad096",
            "237495e319c34823bba04210275909c6",
            "b61afda29a40425f93cbbd46a3f360b3",
            "d5eeb25ef1c948ff9404d0dfd8aa6ba0",
            "308cd08ad83b4861ae89fed3d8b10dc1",
            "2ec543a89a014956b2b16439314cd377",
            "801331cf8bf54dc88be35361d7863f0a"
          ]
        },
        "id": "35j0GFM0qZUc",
        "outputId": "f9af9a3d-59f2-446f-bdec-3878549c5177"
      },
      "outputs": [
        {
          "ename": "NameError",
          "evalue": "name 'VBox' is not defined",
          "output_type": "error",
          "traceback": [
            "\u001b[1;31m---------------------------------------------------------------------------\u001b[0m",
            "\u001b[1;31mNameError\u001b[0m                                 Traceback (most recent call last)",
            "Cell \u001b[1;32mIn[5], line 1\u001b[0m\n\u001b[1;32m----> 1\u001b[0m display(\u001b[43mVBox\u001b[49m([widgets\u001b[38;5;241m.\u001b[39mLabel(\u001b[38;5;124m'\u001b[39m\u001b[38;5;124mSelect your bear!\u001b[39m\u001b[38;5;124m'\u001b[39m), btn_upload, out_pl, lbl_pred]))\n",
            "\u001b[1;31mNameError\u001b[0m: name 'VBox' is not defined"
          ]
        }
      ],
      "source": [
        "display(VBox([widgets.Label('Select your bear!'), btn_upload, out_pl, lbl_pred]))"
      ]
    },
    {
      "cell_type": "code",
      "execution_count": null,
      "metadata": {
        "id": "KzuR6Xubqoon"
      },
      "outputs": [],
      "source": []
    },
    {
      "cell_type": "code",
      "execution_count": null,
      "metadata": {},
      "outputs": [],
      "source": []
    },
    {
      "cell_type": "code",
      "execution_count": null,
      "metadata": {},
      "outputs": [],
      "source": []
    },
    {
      "cell_type": "code",
      "execution_count": null,
      "metadata": {},
      "outputs": [],
      "source": []
    },
    {
      "cell_type": "code",
      "execution_count": null,
      "metadata": {},
      "outputs": [],
      "source": []
    },
    {
      "cell_type": "code",
      "execution_count": null,
      "metadata": {},
      "outputs": [],
      "source": []
    },
    {
      "cell_type": "code",
      "execution_count": null,
      "metadata": {},
      "outputs": [],
      "source": []
    }
  ],
  "metadata": {
    "colab": {
      "provenance": []
    },
    "kernelspec": {
      "display_name": "Python 3",
      "name": "python3"
    },
    "language_info": {
      "codemirror_mode": {
        "name": "ipython",
        "version": 3
      },
      "file_extension": ".py",
      "mimetype": "text/x-python",
      "name": "python",
      "nbconvert_exporter": "python",
      "pygments_lexer": "ipython3",
      "version": "3.10.13"
    },
    "widgets": {
      "application/vnd.jupyter.widget-state+json": {
        "237495e319c34823bba04210275909c6": {
          "model_module": "@jupyter-widgets/controls",
          "model_module_version": "1.5.0",
          "model_name": "DescriptionStyleModel",
          "state": {
            "_model_module": "@jupyter-widgets/controls",
            "_model_module_version": "1.5.0",
            "_model_name": "DescriptionStyleModel",
            "_view_count": null,
            "_view_module": "@jupyter-widgets/base",
            "_view_module_version": "1.2.0",
            "_view_name": "StyleView",
            "description_width": ""
          }
        },
        "2ec543a89a014956b2b16439314cd377": {
          "model_module": "@jupyter-widgets/controls",
          "model_module_version": "1.5.0",
          "model_name": "DescriptionStyleModel",
          "state": {
            "_model_module": "@jupyter-widgets/controls",
            "_model_module_version": "1.5.0",
            "_model_name": "DescriptionStyleModel",
            "_view_count": null,
            "_view_module": "@jupyter-widgets/base",
            "_view_module_version": "1.2.0",
            "_view_name": "StyleView",
            "description_width": ""
          }
        },
        "308cd08ad83b4861ae89fed3d8b10dc1": {
          "model_module": "@jupyter-widgets/base",
          "model_module_version": "1.2.0",
          "model_name": "LayoutModel",
          "state": {
            "_model_module": "@jupyter-widgets/base",
            "_model_module_version": "1.2.0",
            "_model_name": "LayoutModel",
            "_view_count": null,
            "_view_module": "@jupyter-widgets/base",
            "_view_module_version": "1.2.0",
            "_view_name": "LayoutView",
            "align_content": null,
            "align_items": null,
            "align_self": null,
            "border": null,
            "bottom": null,
            "display": null,
            "flex": null,
            "flex_flow": null,
            "grid_area": null,
            "grid_auto_columns": null,
            "grid_auto_flow": null,
            "grid_auto_rows": null,
            "grid_column": null,
            "grid_gap": null,
            "grid_row": null,
            "grid_template_areas": null,
            "grid_template_columns": null,
            "grid_template_rows": null,
            "height": null,
            "justify_content": null,
            "justify_items": null,
            "left": null,
            "margin": null,
            "max_height": null,
            "max_width": null,
            "min_height": null,
            "min_width": null,
            "object_fit": null,
            "object_position": null,
            "order": null,
            "overflow": null,
            "overflow_x": null,
            "overflow_y": null,
            "padding": null,
            "right": null,
            "top": null,
            "visibility": null,
            "width": null
          }
        },
        "720126558715433ea3c3cfe4be06a937": {
          "model_module": "@jupyter-widgets/controls",
          "model_module_version": "1.5.0",
          "model_name": "LabelModel",
          "state": {
            "_dom_classes": [],
            "_model_module": "@jupyter-widgets/controls",
            "_model_module_version": "1.5.0",
            "_model_name": "LabelModel",
            "_view_count": null,
            "_view_module": "@jupyter-widgets/controls",
            "_view_module_version": "1.5.0",
            "_view_name": "LabelView",
            "description": "",
            "description_tooltip": null,
            "layout": "IPY_MODEL_308cd08ad83b4861ae89fed3d8b10dc1",
            "placeholder": "​",
            "style": "IPY_MODEL_2ec543a89a014956b2b16439314cd377",
            "value": ""
          }
        },
        "74d63c8b55b14f35b30010332b254eeb": {
          "model_module": "@jupyter-widgets/controls",
          "model_module_version": "1.5.0",
          "model_name": "LabelModel",
          "state": {
            "_dom_classes": [],
            "_model_module": "@jupyter-widgets/controls",
            "_model_module_version": "1.5.0",
            "_model_name": "LabelModel",
            "_view_count": null,
            "_view_module": "@jupyter-widgets/controls",
            "_view_module_version": "1.5.0",
            "_view_name": "LabelView",
            "description": "",
            "description_tooltip": null,
            "layout": "IPY_MODEL_f174005224ef4918a84cbe101f3ad096",
            "placeholder": "​",
            "style": "IPY_MODEL_237495e319c34823bba04210275909c6",
            "value": "Select your bear!"
          }
        },
        "79a3eaf8103343a59bbb03d577126858": {
          "model_module": "@jupyter-widgets/controls",
          "model_module_version": "1.5.0",
          "model_name": "FileUploadModel",
          "state": {
            "_counter": 0,
            "_dom_classes": [],
            "_model_module": "@jupyter-widgets/controls",
            "_model_module_version": "1.5.0",
            "_model_name": "FileUploadModel",
            "_view_count": null,
            "_view_module": "@jupyter-widgets/controls",
            "_view_module_version": "1.5.0",
            "_view_name": "FileUploadView",
            "accept": "",
            "button_style": "",
            "data": [],
            "description": "Upload",
            "description_tooltip": null,
            "disabled": false,
            "error": "",
            "icon": "upload",
            "layout": "IPY_MODEL_b61afda29a40425f93cbbd46a3f360b3",
            "metadata": [],
            "multiple": false,
            "style": "IPY_MODEL_d5eeb25ef1c948ff9404d0dfd8aa6ba0"
          }
        },
        "7ff0dfb8db4f4918ac243395f87c0d47": {
          "model_module": "@jupyter-widgets/controls",
          "model_module_version": "1.5.0",
          "model_name": "VBoxModel",
          "state": {
            "_dom_classes": [],
            "_model_module": "@jupyter-widgets/controls",
            "_model_module_version": "1.5.0",
            "_model_name": "VBoxModel",
            "_view_count": null,
            "_view_module": "@jupyter-widgets/controls",
            "_view_module_version": "1.5.0",
            "_view_name": "VBoxView",
            "box_style": "",
            "children": [
              "IPY_MODEL_74d63c8b55b14f35b30010332b254eeb",
              "IPY_MODEL_79a3eaf8103343a59bbb03d577126858",
              "IPY_MODEL_e8f59d4d34f3447cb993febb79667872",
              "IPY_MODEL_720126558715433ea3c3cfe4be06a937"
            ],
            "layout": "IPY_MODEL_dd991f2474134bdd8f4cbe73f1c25212"
          }
        },
        "801331cf8bf54dc88be35361d7863f0a": {
          "model_module": "@jupyter-widgets/base",
          "model_module_version": "1.2.0",
          "model_name": "LayoutModel",
          "state": {
            "_model_module": "@jupyter-widgets/base",
            "_model_module_version": "1.2.0",
            "_model_name": "LayoutModel",
            "_view_count": null,
            "_view_module": "@jupyter-widgets/base",
            "_view_module_version": "1.2.0",
            "_view_name": "LayoutView",
            "align_content": null,
            "align_items": null,
            "align_self": null,
            "border": null,
            "bottom": null,
            "display": null,
            "flex": null,
            "flex_flow": null,
            "grid_area": null,
            "grid_auto_columns": null,
            "grid_auto_flow": null,
            "grid_auto_rows": null,
            "grid_column": null,
            "grid_gap": null,
            "grid_row": null,
            "grid_template_areas": null,
            "grid_template_columns": null,
            "grid_template_rows": null,
            "height": null,
            "justify_content": null,
            "justify_items": null,
            "left": null,
            "margin": null,
            "max_height": null,
            "max_width": null,
            "min_height": null,
            "min_width": null,
            "object_fit": null,
            "object_position": null,
            "order": null,
            "overflow": null,
            "overflow_x": null,
            "overflow_y": null,
            "padding": null,
            "right": null,
            "top": null,
            "visibility": null,
            "width": null
          }
        },
        "b61afda29a40425f93cbbd46a3f360b3": {
          "model_module": "@jupyter-widgets/base",
          "model_module_version": "1.2.0",
          "model_name": "LayoutModel",
          "state": {
            "_model_module": "@jupyter-widgets/base",
            "_model_module_version": "1.2.0",
            "_model_name": "LayoutModel",
            "_view_count": null,
            "_view_module": "@jupyter-widgets/base",
            "_view_module_version": "1.2.0",
            "_view_name": "LayoutView",
            "align_content": null,
            "align_items": null,
            "align_self": null,
            "border": null,
            "bottom": null,
            "display": null,
            "flex": null,
            "flex_flow": null,
            "grid_area": null,
            "grid_auto_columns": null,
            "grid_auto_flow": null,
            "grid_auto_rows": null,
            "grid_column": null,
            "grid_gap": null,
            "grid_row": null,
            "grid_template_areas": null,
            "grid_template_columns": null,
            "grid_template_rows": null,
            "height": null,
            "justify_content": null,
            "justify_items": null,
            "left": null,
            "margin": null,
            "max_height": null,
            "max_width": null,
            "min_height": null,
            "min_width": null,
            "object_fit": null,
            "object_position": null,
            "order": null,
            "overflow": null,
            "overflow_x": null,
            "overflow_y": null,
            "padding": null,
            "right": null,
            "top": null,
            "visibility": null,
            "width": null
          }
        },
        "d5eeb25ef1c948ff9404d0dfd8aa6ba0": {
          "model_module": "@jupyter-widgets/controls",
          "model_module_version": "1.5.0",
          "model_name": "ButtonStyleModel",
          "state": {
            "_model_module": "@jupyter-widgets/controls",
            "_model_module_version": "1.5.0",
            "_model_name": "ButtonStyleModel",
            "_view_count": null,
            "_view_module": "@jupyter-widgets/base",
            "_view_module_version": "1.2.0",
            "_view_name": "StyleView",
            "button_color": null,
            "font_weight": ""
          }
        },
        "dd991f2474134bdd8f4cbe73f1c25212": {
          "model_module": "@jupyter-widgets/base",
          "model_module_version": "1.2.0",
          "model_name": "LayoutModel",
          "state": {
            "_model_module": "@jupyter-widgets/base",
            "_model_module_version": "1.2.0",
            "_model_name": "LayoutModel",
            "_view_count": null,
            "_view_module": "@jupyter-widgets/base",
            "_view_module_version": "1.2.0",
            "_view_name": "LayoutView",
            "align_content": null,
            "align_items": null,
            "align_self": null,
            "border": null,
            "bottom": null,
            "display": null,
            "flex": null,
            "flex_flow": null,
            "grid_area": null,
            "grid_auto_columns": null,
            "grid_auto_flow": null,
            "grid_auto_rows": null,
            "grid_column": null,
            "grid_gap": null,
            "grid_row": null,
            "grid_template_areas": null,
            "grid_template_columns": null,
            "grid_template_rows": null,
            "height": null,
            "justify_content": null,
            "justify_items": null,
            "left": null,
            "margin": null,
            "max_height": null,
            "max_width": null,
            "min_height": null,
            "min_width": null,
            "object_fit": null,
            "object_position": null,
            "order": null,
            "overflow": null,
            "overflow_x": null,
            "overflow_y": null,
            "padding": null,
            "right": null,
            "top": null,
            "visibility": null,
            "width": null
          }
        },
        "e8f59d4d34f3447cb993febb79667872": {
          "model_module": "@jupyter-widgets/output",
          "model_module_version": "1.0.0",
          "model_name": "OutputModel",
          "state": {
            "_dom_classes": [],
            "_model_module": "@jupyter-widgets/output",
            "_model_module_version": "1.0.0",
            "_model_name": "OutputModel",
            "_view_count": null,
            "_view_module": "@jupyter-widgets/output",
            "_view_module_version": "1.0.0",
            "_view_name": "OutputView",
            "layout": "IPY_MODEL_801331cf8bf54dc88be35361d7863f0a",
            "msg_id": "",
            "outputs": []
          }
        },
        "f174005224ef4918a84cbe101f3ad096": {
          "model_module": "@jupyter-widgets/base",
          "model_module_version": "1.2.0",
          "model_name": "LayoutModel",
          "state": {
            "_model_module": "@jupyter-widgets/base",
            "_model_module_version": "1.2.0",
            "_model_name": "LayoutModel",
            "_view_count": null,
            "_view_module": "@jupyter-widgets/base",
            "_view_module_version": "1.2.0",
            "_view_name": "LayoutView",
            "align_content": null,
            "align_items": null,
            "align_self": null,
            "border": null,
            "bottom": null,
            "display": null,
            "flex": null,
            "flex_flow": null,
            "grid_area": null,
            "grid_auto_columns": null,
            "grid_auto_flow": null,
            "grid_auto_rows": null,
            "grid_column": null,
            "grid_gap": null,
            "grid_row": null,
            "grid_template_areas": null,
            "grid_template_columns": null,
            "grid_template_rows": null,
            "height": null,
            "justify_content": null,
            "justify_items": null,
            "left": null,
            "margin": null,
            "max_height": null,
            "max_width": null,
            "min_height": null,
            "min_width": null,
            "object_fit": null,
            "object_position": null,
            "order": null,
            "overflow": null,
            "overflow_x": null,
            "overflow_y": null,
            "padding": null,
            "right": null,
            "top": null,
            "visibility": null,
            "width": null
          }
        }
      }
    }
  },
  "nbformat": 4,
  "nbformat_minor": 0
}
